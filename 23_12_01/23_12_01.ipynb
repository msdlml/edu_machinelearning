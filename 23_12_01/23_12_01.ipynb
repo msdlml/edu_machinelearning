{
 "cells": [
  {
   "cell_type": "code",
   "execution_count": 3,
   "metadata": {},
   "outputs": [],
   "source": [
    "import pandas as pd\n",
    "import numpy as np\n",
    "import matplotlib.pyplot as plt\n",
    "import seaborn as sns\n",
    "from keras.api._v2.keras.models import Sequential\n",
    "from keras.api._v2.keras.layers import Flatten, Dense\n",
    "from keras.api._v2.keras.optimizers import SGD\n",
    "from scipy import stats\n",
    "from sklearn import linear_model\n",
    "from sklearn.preprocessing import MinMaxScaler\n"
   ]
  },
  {
   "cell_type": "code",
   "execution_count": 7,
   "metadata": {},
   "outputs": [
    {
     "data": {
      "text/html": [
       "<div>\n",
       "<style scoped>\n",
       "    .dataframe tbody tr th:only-of-type {\n",
       "        vertical-align: middle;\n",
       "    }\n",
       "\n",
       "    .dataframe tbody tr th {\n",
       "        vertical-align: top;\n",
       "    }\n",
       "\n",
       "    .dataframe thead th {\n",
       "        text-align: right;\n",
       "    }\n",
       "</style>\n",
       "<table border=\"1\" class=\"dataframe\">\n",
       "  <thead>\n",
       "    <tr style=\"text-align: right;\">\n",
       "      <th></th>\n",
       "      <th>Temp</th>\n",
       "      <th>Ozone</th>\n",
       "    </tr>\n",
       "  </thead>\n",
       "  <tbody>\n",
       "    <tr>\n",
       "      <th>0</th>\n",
       "      <td>67</td>\n",
       "      <td>41.0</td>\n",
       "    </tr>\n",
       "    <tr>\n",
       "      <th>1</th>\n",
       "      <td>72</td>\n",
       "      <td>36.0</td>\n",
       "    </tr>\n",
       "    <tr>\n",
       "      <th>2</th>\n",
       "      <td>74</td>\n",
       "      <td>12.0</td>\n",
       "    </tr>\n",
       "    <tr>\n",
       "      <th>3</th>\n",
       "      <td>62</td>\n",
       "      <td>18.0</td>\n",
       "    </tr>\n",
       "    <tr>\n",
       "      <th>5</th>\n",
       "      <td>66</td>\n",
       "      <td>28.0</td>\n",
       "    </tr>\n",
       "    <tr>\n",
       "      <th>...</th>\n",
       "      <td>...</td>\n",
       "      <td>...</td>\n",
       "    </tr>\n",
       "    <tr>\n",
       "      <th>147</th>\n",
       "      <td>63</td>\n",
       "      <td>14.0</td>\n",
       "    </tr>\n",
       "    <tr>\n",
       "      <th>148</th>\n",
       "      <td>70</td>\n",
       "      <td>30.0</td>\n",
       "    </tr>\n",
       "    <tr>\n",
       "      <th>150</th>\n",
       "      <td>75</td>\n",
       "      <td>14.0</td>\n",
       "    </tr>\n",
       "    <tr>\n",
       "      <th>151</th>\n",
       "      <td>76</td>\n",
       "      <td>18.0</td>\n",
       "    </tr>\n",
       "    <tr>\n",
       "      <th>152</th>\n",
       "      <td>68</td>\n",
       "      <td>20.0</td>\n",
       "    </tr>\n",
       "  </tbody>\n",
       "</table>\n",
       "<p>109 rows × 2 columns</p>\n",
       "</div>"
      ],
      "text/plain": [
       "     Temp  Ozone\n",
       "0      67   41.0\n",
       "1      72   36.0\n",
       "2      74   12.0\n",
       "3      62   18.0\n",
       "5      66   28.0\n",
       "..    ...    ...\n",
       "147    63   14.0\n",
       "148    70   30.0\n",
       "150    75   14.0\n",
       "151    76   18.0\n",
       "152    68   20.0\n",
       "\n",
       "[109 rows x 2 columns]"
      ]
     },
     "metadata": {},
     "output_type": "display_data"
    },
    {
     "name": "stdout",
     "output_type": "stream",
     "text": [
      "W : [[0.07370695]], b : [0.34560231], loss : 0.06409385340808445\n",
      "W : [[0.26160128]], b : [0.2541104], loss : 0.04939963746113337\n",
      "W : [[0.40344974]], b : [0.17865543], loss : 0.040745439721519665\n",
      "W : [[0.51257158]], b : [0.1206059], loss : 0.03562377144940318\n",
      "W : [[0.59651835]], b : [0.07594875], loss : 0.03259270066385227\n",
      "W : [[0.66109809]], b : [0.04159427], loss : 0.030798873024323353\n",
      "W : [[0.7107789]], b : [0.01516558], loss : 0.029737262185118702\n",
      "W : [[0.74899804]], b : [-0.00516585], loss : 0.02910898689875246\n",
      "W : [[0.77839979]], b : [-0.0208067], loss : 0.02873716530379354\n",
      "W : [[0.80101839]], b : [-0.03283911], loss : 0.028517116383395463\n",
      "[[0.06020698]]\n"
     ]
    }
   ],
   "source": [
    "df = pd.read_csv('ozone.csv')\n",
    "training_data = df[['Temp', 'Ozone']]\n",
    "\n",
    "# 이렇게 데이터를 가져온 후 당연히 데이터 전처리를 해야 해요!\n",
    "# 1. 결측치 처리!\n",
    "training_data = training_data.dropna(how='any')\n",
    "# 2. 이상치 처리!\n",
    "zscore_threshold = 1.8\n",
    "\n",
    "outlier = training_data['Ozone'][np.abs(stats.zscore(training_data['Ozone'].values)) > zscore_threshold]\n",
    "\n",
    "# print(outlier)\n",
    "\n",
    "# 이상치를 제거한 결과를 얻어야 해요!\n",
    "# 내가 가진 DataFrame에서 이상치를 제거하면 되요!\n",
    "training_data = training_data.loc[np.isin(training_data['Ozone'],outlier, invert=True)]\n",
    "display(training_data)\n",
    "\n",
    "# 3. 정규화 진행(Normalization)\n",
    "#    모든 feature에 대해 scale을 0과 1로 변경!\n",
    "#    이렇게 해야 해요!\n",
    "#    먼저 Temp에 대해 최대값, 최소값을 찾아요!\n",
    "# print(np.max(training_data['Temp'].values)) # 97\n",
    "# print(np.min(training_data['Temp'].values)) # 57\n",
    "# scaled_data = (67 -  57) / (97 - 57)\n",
    "# print(scaled_data)   # 0.25\n",
    "\n",
    "# sklearn을 이용해서 정규화작업 쉽게 가능\n",
    "scaled_x = MinMaxScaler()\n",
    "scaled_t = MinMaxScaler()\n",
    "\n",
    "scaled_x.fit(training_data['Temp'].values.reshape(-1,1))\n",
    "scaled_t.fit(training_data['Ozone'].values.reshape(-1,1))\n",
    "\n",
    "# Training Data Set 준비\n",
    "x_data = scaled_x.transform(training_data['Temp'].values.reshape(-1,1))\n",
    "t_data = scaled_t.transform(training_data['Ozone'].values.reshape(-1,1))\n",
    "\n",
    "def numerical_derivative(f,x):\n",
    "\n",
    "    # f : 미분하려고하는 다변수 함수\n",
    "    # x : 모든 변수를 포함하는 ndarray  [1.0 2.0]\n",
    "    # 리턴되는 결과는 [8.0 15.0]\n",
    "\n",
    "    delta_x = 1e-4\n",
    "    derivative_x = np.zeros_like(x)   #  [0.0 0.0]\n",
    "\n",
    "    it = np.nditer(x, flags=['multi_index'])\n",
    "\n",
    "    while not it.finished:\n",
    "\n",
    "        idx = it.multi_index  # 현재의 index를 추출 => tuple형태로 리턴.\n",
    "\n",
    "        tmp = x[idx]    # 현재 index의 값을 일단 잠시 보존해야해요!\n",
    "                        # 밑에서 이 값을 변경해서 중앙차분 값을 계산해야 해요!\n",
    "                        # 그런데 우리 편미분해야해요. 다음 변수 편미분할때\n",
    "                        # 원래값으로 복원해야 편미분이 정상적으로 진행되기 때문에\n",
    "                        # 이값을 잠시 보관했다가 원상태로 복구해야 해요!\n",
    "        x[idx] = tmp + delta_x\n",
    "        fx_plus_delta_x = f(x)  # f(x + delta_x)\n",
    "\n",
    "        x[idx] = tmp - delta_x\n",
    "        fx_minus_delta_x = f(x) # f(x - delta_x)\n",
    "\n",
    "        derivative_x[idx] = (fx_plus_delta_x - fx_minus_delta_x) / (2 * delta_x)\n",
    "\n",
    "        x[idx] = tmp\n",
    "\n",
    "        it.iternext()\n",
    "\n",
    "    return derivative_x\n",
    "W = np.random.rand(1,1)\n",
    "b = np.random.rand(1)\n",
    "\n",
    "def loss_func(input_data):\n",
    "\n",
    "    input_w = input_data[0]\n",
    "    input_b = input_data[1]\n",
    "\n",
    "    y = np.dot(x_data, input_w) + input_b\n",
    "\n",
    "    return np.mean(np.power((t_data-y),2))\n",
    "\n",
    "# 모델이 완성된 후 예측하는 함수를 하나 만들어요!\n",
    "def predict(x):\n",
    "\n",
    "    return np.dot(x, W) + b\n",
    "\n",
    "learning_rate = 1e-4\n",
    "\n",
    "for step in range(300000):\n",
    "\n",
    "    input_param = np.concatenate((W.ravel(), b.ravel()), axis=0)\n",
    "    derivative_result = learning_rate * numerical_derivative(loss_func, input_param)\n",
    "\n",
    "    W = W - derivative_result[0].reshape(-1,1)\n",
    "    b = b - derivative_result[1]\n",
    "\n",
    "    if step % 30000 == 0:\n",
    "        print(f'W : {W}, b : {b}, loss : {loss_func(input_param)}')\n",
    "\n"
   ]
  },
  {
   "cell_type": "code",
   "execution_count": 8,
   "metadata": {},
   "outputs": [
    {
     "name": "stdout",
     "output_type": "stream",
     "text": [
      "[[6.77987025]]\n"
     ]
    }
   ],
   "source": [
    "#학습종료 후 예측\n",
    "#내가 궁금한데이터도 스케일링 해서 물어봐야 함\n",
    "\n",
    "my_data = np.array([[62]])\n",
    "scaled_my_data = scaled_x.transform(my_data)\n",
    "scaled_result = predict(scaled_my_data)\n",
    "#스케일 돼서 나온 값을 원상 복구 시켜야 함\n",
    "result = scaled_t.inverse_transform(scaled_result)\n",
    "print(result)"
   ]
  },
  {
   "cell_type": "code",
   "execution_count": 13,
   "metadata": {},
   "outputs": [
    {
     "data": {
      "text/plain": [
       "<keras.src.callbacks.History at 0x298990bec10>"
      ]
     },
     "execution_count": 13,
     "metadata": {},
     "output_type": "execute_result"
    }
   ],
   "source": [
    "# Model 생성\n",
    "model = Sequential()\n",
    "\n",
    "model.add(Flatten(input_shape=(1,)))\n",
    "\n",
    "output_layer = Dense(units=1,\n",
    "                     activation='linear')\n",
    "\n",
    "model.add(output_layer)\n",
    "\n",
    "# model 설정\n",
    "# 파이썬 구현과 optmizer 로직이 다르기 때문에 \n",
    "# learning_rate 값을 잘 설정해줘야 함\n",
    "model.compile(optimizer=SGD(learning_rate=1e-2),\n",
    "              loss='mse')\n",
    "\n",
    "# model 학습\n",
    "model.fit(x_data,\n",
    "          t_data,\n",
    "          epochs=2000,\n",
    "          verbose=0)"
   ]
  },
  {
   "cell_type": "code",
   "execution_count": 14,
   "metadata": {},
   "outputs": [
    {
     "name": "stdout",
     "output_type": "stream",
     "text": [
      "1/1 [==============================] - 0s 34ms/step\n",
      "[[4.2942057]]\n"
     ]
    }
   ],
   "source": [
    "my_data = np.array([[62]])\n",
    "scaled_my_data = scaled_x.transform(my_data)\n",
    "scaled_result = model.predict(scaled_my_data)\n",
    "#스케일 돼서 나온 값을 원상 복구 시켜야 함\n",
    "result = scaled_t.inverse_transform(scaled_result)\n",
    "print(result)\n",
    "\n",
    "weights, bias = output_layer.get_weights()"
   ]
  },
  {
   "cell_type": "code",
   "execution_count": 15,
   "metadata": {},
   "outputs": [
    {
     "name": "stdout",
     "output_type": "stream",
     "text": [
      "[[4.2942057]]\n"
     ]
    }
   ],
   "source": [
    "# Model 생성\n",
    "sklearn_model = linear_model.LinearRegression()\n",
    "\n",
    "# Model 학습\n",
    "sklearn_model.fit(x_data, t_data)\n",
    "\n",
    "# W와 b를 알아야지 나중에 그래프를 그릴 수 있겠죠.\n",
    "weights = sklearn_model.coef_\n",
    "bias = sklearn_model.intercept_\n",
    "\n",
    "# 예측을 해 보아요!\n",
    "my_data = np.array([[62]])\n",
    "scaled_my_data = scaled_x.transform(my_data)\n",
    "sklearn_model.predict(scaled_my_data)\n",
    "#스케일 돼서 나온 값을 원상 복구 시켜야 함\n",
    "result = scaled_t.inverse_transform(scaled_result)\n",
    "print(result)\n"
   ]
  },
  {
   "cell_type": "code",
   "execution_count": 16,
   "metadata": {},
   "outputs": [
    {
     "data": {
      "text/plain": [
       "[<matplotlib.lines.Line2D at 0x2989a49ad90>]"
      ]
     },
     "execution_count": 16,
     "metadata": {},
     "output_type": "execute_result"
    },
    {
     "data": {
      "image/png": "[encoded data removed]",
      "text/plain": [
       "<Figure size 640x480 with 3 Axes>"
      ]
     },
     "metadata": {},
     "output_type": "display_data"
    }
   ],
   "source": [
    "####### 결과를 그래프로 확인해 보아요! #########\n",
    "\n",
    "fig = plt.figure()\n",
    "\n",
    "fig_python = fig.add_subplot(1,3,1)\n",
    "fig_tensorflow = fig.add_subplot(1,3,2)\n",
    "fig_sklearn = fig.add_subplot(1,3,3)\n",
    "\n",
    "fig_python.set_title('python')\n",
    "fig_tensorflow.set_title('tensorflow')\n",
    "fig_sklearn.set_title('sklearn')\n",
    "\n",
    "fig_python.scatter(x_data, t_data)\n",
    "fig_python.plot(x_data, x_data*W.ravel() + b, color='r')\n",
    "\n",
    "fig_tensorflow.scatter(x_data, t_data)\n",
    "fig_tensorflow.plot(x_data, x_data*weights + bias, color='b')\n",
    "\n",
    "fig_sklearn.scatter(x_data, t_data)\n",
    "fig_sklearn.plot(x_data,\n",
    "                 x_data*sklearn_model.coef_ + sklearn_model.intercept_,\n",
    "                 color='g')"
   ]
  },
  {
   "cell_type": "code",
   "execution_count": 17,
   "metadata": {},
   "outputs": [],
   "source": [
    "# Multiple Linear Regression을 해 보아요!\n",
    "\n",
    "# 필요한 module import\n",
    "import numpy as np\n",
    "import pandas as pd\n",
    "\n",
    "from tensorflow.keras.models import Sequential\n",
    "from tensorflow.keras.layers import Flatten, Dense\n",
    "from tensorflow.keras.optimizers import SGD\n",
    "\n",
    "from scipy import stats\n",
    "from sklearn.preprocessing import MinMaxScaler\n",
    "from sklearn import linear_model"
   ]
  },
  {
   "cell_type": "code",
   "execution_count": 19,
   "metadata": {},
   "outputs": [
    {
     "name": "stdout",
     "output_type": "stream",
     "text": [
      "<class 'pandas.core.frame.DataFrame'>\n",
      "RangeIndex: 153 entries, 0 to 152\n",
      "Data columns (total 6 columns):\n",
      " #   Column   Non-Null Count  Dtype  \n",
      "---  ------   --------------  -----  \n",
      " 0   Ozone    116 non-null    float64\n",
      " 1   Solar.R  146 non-null    float64\n",
      " 2   Wind     153 non-null    float64\n",
      " 3   Temp     153 non-null    int64  \n",
      " 4   Month    153 non-null    int64  \n",
      " 5   Day      153 non-null    int64  \n",
      "dtypes: float64(3), int64(3)\n",
      "memory usage: 7.3 KB\n"
     ]
    }
   ],
   "source": [
    "# 데이터 로딩과 전처리!\n",
    "\n",
    "# Raw Data Loading\n",
    "df = pd.read_csv('ozone.csv')\n",
    "\n",
    "training_data = df[['Solar.R', 'Wind', 'Temp', 'Ozone']]\n",
    "\n",
    "# 이렇게 데이터를 가져온 후 당연히 데이터 전처리를 해야 해요!\n",
    "# 1. 결측치 처리!\n",
    "training_data = training_data.dropna(how='any')\n",
    "\n",
    "# 2. 이상치 처리!\n",
    "zscore_threshold = 1.8\n",
    "\n",
    "outlier = training_data['Ozone'][np.abs(stats.zscore(training_data['Ozone'].values)) > zscore_threshold]\n",
    "\n",
    "# print(outlier)\n",
    "\n",
    "# 이상치를 제거한 결과를 얻어야 해요!\n",
    "# 내가 가진 DataFrame에서 이상치를 제거하면 되요!\n",
    "training_data = training_data.loc[np.isin(training_data['Ozone'],outlier, invert=True)]\n",
    "# display(training_data)\n",
    "\n",
    "x_data = training_data.drop('Ozone', axis=1, inplace=False).values\n",
    "t_data = training_data['Ozone'].values.reshape(-1,1)\n",
    "\n",
    "# 3. 정규화 진행(Normalization)\n",
    "#    모든 feature에 대해 scale을 0과 1로 변경!\n",
    "#    이렇게 해야 해요!\n",
    "#    프로그램적으로 이 작업을 하려면 코드작업을 해야해서 좀 그래요!\n",
    "#    sklearn을 이용하면 이 정규화 작업을 아주 쉽게 할 수 있어요!\n",
    "scaled_x = MinMaxScaler()\n",
    "scaled_t = MinMaxScaler()\n",
    "\n",
    "scaled_x.fit(x_data)\n",
    "scaled_t.fit(t_data)\n",
    "\n",
    "# 정규화된 Training Data Set 준비\n",
    "x_data_norm = scaled_x.transform(x_data)\n",
    "t_data_norm = scaled_t.transform(t_data)\n"
   ]
  },
  {
   "cell_type": "code",
   "execution_count": 20,
   "metadata": {},
   "outputs": [
    {
     "name": "stdout",
     "output_type": "stream",
     "text": [
      "1/1 [==============================] - 0s 40ms/step\n",
      "결과로 알아낸 오존량은 : [[39.965565]]\n"
     ]
    }
   ],
   "source": [
    "# Tensorflow 구현을 해 보아요!\n",
    "\n",
    "# Model 생성\n",
    "keras_model = Sequential()\n",
    "\n",
    "# Flatten은 input layer의 역할을 수행!\n",
    "# 당연히 입력 feature들을 받아들이는 역할을 수행!\n",
    "# Flatten안의 동글뱅이(node)는 몇개 있어야 하나요? => 3\n",
    "keras_model.add(Flatten(input_shape=(3,)))\n",
    "\n",
    "keras_model.add(Dense(units=1,\n",
    "                      activation='linear'))\n",
    "\n",
    "# Model 설정\n",
    "keras_model.compile(optimizer=SGD(learning_rate=1e-2),\n",
    "                    loss='mse')\n",
    "\n",
    "# Model 학습\n",
    "keras_model.fit(x_data_norm,\n",
    "                t_data_norm,\n",
    "                epochs=1000,\n",
    "                verbose=0)\n",
    "\n",
    "# Model을 이용한 예측\n",
    "my_data = np.array([[150.0, 10.0, 80.0]])\n",
    "scaled_my_data = scaled_x.transform(my_data)\n",
    "\n",
    "scaled_result = keras_model.predict(scaled_my_data)\n",
    "result = scaled_t.inverse_transform(scaled_result)\n",
    "\n",
    "print(f'결과로 알아낸 오존량은 : {result}')  # [[40.26445]]"
   ]
  },
  {
   "cell_type": "code",
   "execution_count": 26,
   "metadata": {},
   "outputs": [
    {
     "name": "stdout",
     "output_type": "stream",
     "text": [
      "결과로 알아낸 오존량은 : [[40.34973385]]\n"
     ]
    }
   ],
   "source": [
    "# sklearn 구현\n",
    "\n",
    "# model 생성\n",
    "sklearn_model = linear_model.LinearRegression()\n",
    "\n",
    "# model 학습(정규화하지 않은 데이터를 이용)\n",
    "sklearn_model.fit(x_data, t_data)\n",
    "\n",
    "# model로 예측\n",
    "my_data = np.array([[150.0, 10.0, 80.0]])\n",
    "# scaled_my_data = scaled_x.transform(my_data)\n",
    "# scaled_result = sklearn_model.predict(scaled_my_data)\n",
    "# result = scaled_t.inverse_transform(scaled_result)\n",
    "result = sklearn_model.predict(my_data)\n",
    "\n",
    "print(f'결과로 알아낸 오존량은 : {result}')  # T [[40.26445]]\n",
    "                                             # S [[40.34973385]]\n"
   ]
  },
  {
   "cell_type": "code",
   "execution_count": null,
   "metadata": {},
   "outputs": [],
   "source": []
  }
 ],
 "metadata": {
  "kernelspec": {
   "display_name": "test_venv",
   "language": "python",
   "name": "python3"
  },
  "language_info": {
   "codemirror_mode": {
    "name": "ipython",
    "version": 3
   },
   "file_extension": ".py",
   "mimetype": "text/x-python",
   "name": "python",
   "nbconvert_exporter": "python",
   "pygments_lexer": "ipython3",
   "version": "3.8.18"
  },
  "orig_nbformat": 4
 },
 "nbformat": 4,
 "nbformat_minor": 2
}
