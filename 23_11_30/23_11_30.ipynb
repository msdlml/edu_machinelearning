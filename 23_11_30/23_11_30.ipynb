{
 "cells": [
  {
   "cell_type": "code",
   "execution_count": 46,
   "metadata": {},
   "outputs": [],
   "source": [
    "import pandas as pd\n",
    "import numpy as np\n",
    "import matplotlib.pyplot as plt\n",
    "from keras.api._v2.keras.models import Sequential\n",
    "from keras.api._v2.keras.layers import Flatten, Dense\n",
    "from keras.api._v2.keras.optimizers import SGD\n"
   ]
  },
  {
   "cell_type": "code",
   "execution_count": 47,
   "metadata": {},
   "outputs": [
    {
     "data": {
      "text/html": [
       "<div>\n",
       "<style scoped>\n",
       "    .dataframe tbody tr th:only-of-type {\n",
       "        vertical-align: middle;\n",
       "    }\n",
       "\n",
       "    .dataframe tbody tr th {\n",
       "        vertical-align: top;\n",
       "    }\n",
       "\n",
       "    .dataframe thead th {\n",
       "        text-align: right;\n",
       "    }\n",
       "</style>\n",
       "<table border=\"1\" class=\"dataframe\">\n",
       "  <thead>\n",
       "    <tr style=\"text-align: right;\">\n",
       "      <th></th>\n",
       "      <th>Temp</th>\n",
       "      <th>Ozone</th>\n",
       "    </tr>\n",
       "  </thead>\n",
       "  <tbody>\n",
       "    <tr>\n",
       "      <th>0</th>\n",
       "      <td>67</td>\n",
       "      <td>41.0</td>\n",
       "    </tr>\n",
       "    <tr>\n",
       "      <th>1</th>\n",
       "      <td>72</td>\n",
       "      <td>36.0</td>\n",
       "    </tr>\n",
       "    <tr>\n",
       "      <th>2</th>\n",
       "      <td>74</td>\n",
       "      <td>12.0</td>\n",
       "    </tr>\n",
       "    <tr>\n",
       "      <th>3</th>\n",
       "      <td>62</td>\n",
       "      <td>18.0</td>\n",
       "    </tr>\n",
       "    <tr>\n",
       "      <th>5</th>\n",
       "      <td>66</td>\n",
       "      <td>28.0</td>\n",
       "    </tr>\n",
       "    <tr>\n",
       "      <th>...</th>\n",
       "      <td>...</td>\n",
       "      <td>...</td>\n",
       "    </tr>\n",
       "    <tr>\n",
       "      <th>147</th>\n",
       "      <td>63</td>\n",
       "      <td>14.0</td>\n",
       "    </tr>\n",
       "    <tr>\n",
       "      <th>148</th>\n",
       "      <td>70</td>\n",
       "      <td>30.0</td>\n",
       "    </tr>\n",
       "    <tr>\n",
       "      <th>150</th>\n",
       "      <td>75</td>\n",
       "      <td>14.0</td>\n",
       "    </tr>\n",
       "    <tr>\n",
       "      <th>151</th>\n",
       "      <td>76</td>\n",
       "      <td>18.0</td>\n",
       "    </tr>\n",
       "    <tr>\n",
       "      <th>152</th>\n",
       "      <td>68</td>\n",
       "      <td>20.0</td>\n",
       "    </tr>\n",
       "  </tbody>\n",
       "</table>\n",
       "<p>116 rows × 2 columns</p>\n",
       "</div>"
      ],
      "text/plain": [
       "     Temp  Ozone\n",
       "0      67   41.0\n",
       "1      72   36.0\n",
       "2      74   12.0\n",
       "3      62   18.0\n",
       "5      66   28.0\n",
       "..    ...    ...\n",
       "147    63   14.0\n",
       "148    70   30.0\n",
       "150    75   14.0\n",
       "151    76   18.0\n",
       "152    68   20.0\n",
       "\n",
       "[116 rows x 2 columns]"
      ]
     },
     "execution_count": 47,
     "metadata": {},
     "output_type": "execute_result"
    }
   ],
   "source": [
    "df = pd.read_csv('C:/Users/user/Desktop/my_ws/edu/machinelearning/files/ozone.csv')\n",
    "train_df = df[['Temp','Ozone']]\n",
    "train_df = train_df.dropna(how='any')\n",
    "train_df"
   ]
  },
  {
   "cell_type": "code",
   "execution_count": 70,
   "metadata": {},
   "outputs": [
    {
     "name": "stdout",
     "output_type": "stream",
     "text": [
      "W : [[0.68727907]], b : [0.67459002], loss : 2744.662862937882\n",
      "[0.00779329 0.66641882]\n",
      "W : [[0.71551997]], b : [-11.62663635], loss : 818.3210262765197\n",
      "[  0.715515   -11.62624393]\n",
      "W : [[0.85821457]], b : [-22.90178975], loss : 775.9109841214012\n",
      "[  0.85821002 -22.90143001]\n"
     ]
    },
    {
     "ename": "KeyboardInterrupt",
     "evalue": "",
     "output_type": "error",
     "traceback": [
      "\u001b[1;31m---------------------------------------------------------------------------\u001b[0m",
      "\u001b[1;31mKeyboardInterrupt\u001b[0m                         Traceback (most recent call last)",
      "\u001b[1;32mc:\\Users\\user\\Desktop\\my_ws\\edu\\machinelearning\\23_11_30.ipynb Cell 3\u001b[0m line \u001b[0;36m4\n\u001b[0;32m     <a href='vscode-notebook-cell:/c%3A/Users/user/Desktop/my_ws/edu/machinelearning/23_11_30.ipynb#W2sZmlsZQ%3D%3D?line=46'>47</a>\u001b[0m \u001b[39mfor\u001b[39;00m step \u001b[39min\u001b[39;00m \u001b[39mrange\u001b[39m(\u001b[39m300000\u001b[39m):\n\u001b[0;32m     <a href='vscode-notebook-cell:/c%3A/Users/user/Desktop/my_ws/edu/machinelearning/23_11_30.ipynb#W2sZmlsZQ%3D%3D?line=47'>48</a>\u001b[0m     input_param \u001b[39m=\u001b[39m np\u001b[39m.\u001b[39mconcatenate((W\u001b[39m.\u001b[39mravel() , b\u001b[39m.\u001b[39mravel()),axis\u001b[39m=\u001b[39m\u001b[39m0\u001b[39m)\n\u001b[1;32m---> <a href='vscode-notebook-cell:/c%3A/Users/user/Desktop/my_ws/edu/machinelearning/23_11_30.ipynb#W2sZmlsZQ%3D%3D?line=48'>49</a>\u001b[0m     derivative_result \u001b[39m=\u001b[39m learning_rate \u001b[39m*\u001b[39m numerical_derivative(loss_func,input_param)\n\u001b[0;32m     <a href='vscode-notebook-cell:/c%3A/Users/user/Desktop/my_ws/edu/machinelearning/23_11_30.ipynb#W2sZmlsZQ%3D%3D?line=49'>50</a>\u001b[0m     W \u001b[39m=\u001b[39m W \u001b[39m-\u001b[39m derivative_result[\u001b[39m0\u001b[39m]\u001b[39m.\u001b[39mreshape(\u001b[39m-\u001b[39m\u001b[39m1\u001b[39m,\u001b[39m1\u001b[39m)\n\u001b[0;32m     <a href='vscode-notebook-cell:/c%3A/Users/user/Desktop/my_ws/edu/machinelearning/23_11_30.ipynb#W2sZmlsZQ%3D%3D?line=50'>51</a>\u001b[0m     b \u001b[39m=\u001b[39m b \u001b[39m-\u001b[39m derivative_result[\u001b[39m1\u001b[39m]\n",
      "\u001b[1;32mc:\\Users\\user\\Desktop\\my_ws\\edu\\machinelearning\\23_11_30.ipynb Cell 3\u001b[0m line \u001b[0;36m1\n\u001b[0;32m     <a href='vscode-notebook-cell:/c%3A/Users/user/Desktop/my_ws/edu/machinelearning/23_11_30.ipynb#W2sZmlsZQ%3D%3D?line=11'>12</a>\u001b[0m tmp \u001b[39m=\u001b[39m x[idx] \n\u001b[0;32m     <a href='vscode-notebook-cell:/c%3A/Users/user/Desktop/my_ws/edu/machinelearning/23_11_30.ipynb#W2sZmlsZQ%3D%3D?line=12'>13</a>\u001b[0m x[idx] \u001b[39m=\u001b[39m tmp \u001b[39m+\u001b[39m delta_x\n\u001b[1;32m---> <a href='vscode-notebook-cell:/c%3A/Users/user/Desktop/my_ws/edu/machinelearning/23_11_30.ipynb#W2sZmlsZQ%3D%3D?line=13'>14</a>\u001b[0m fx_plus_delta_x \u001b[39m=\u001b[39m f(x) \u001b[39m# f(x + delta_x)\u001b[39;00m\n\u001b[0;32m     <a href='vscode-notebook-cell:/c%3A/Users/user/Desktop/my_ws/edu/machinelearning/23_11_30.ipynb#W2sZmlsZQ%3D%3D?line=15'>16</a>\u001b[0m x[idx] \u001b[39m=\u001b[39m tmp \u001b[39m-\u001b[39m delta_x\n\u001b[0;32m     <a href='vscode-notebook-cell:/c%3A/Users/user/Desktop/my_ws/edu/machinelearning/23_11_30.ipynb#W2sZmlsZQ%3D%3D?line=16'>17</a>\u001b[0m fx_minus_delta_x \u001b[39m=\u001b[39m f(x) \u001b[39m# f(x - delta_x)\u001b[39;00m\n",
      "\u001b[1;32mc:\\Users\\user\\Desktop\\my_ws\\edu\\machinelearning\\23_11_30.ipynb Cell 3\u001b[0m line \u001b[0;36m3\n\u001b[0;32m     <a href='vscode-notebook-cell:/c%3A/Users/user/Desktop/my_ws/edu/machinelearning/23_11_30.ipynb#W2sZmlsZQ%3D%3D?line=34'>35</a>\u001b[0m     input_b \u001b[39m=\u001b[39m input_data[\u001b[39m1\u001b[39m]\n\u001b[0;32m     <a href='vscode-notebook-cell:/c%3A/Users/user/Desktop/my_ws/edu/machinelearning/23_11_30.ipynb#W2sZmlsZQ%3D%3D?line=35'>36</a>\u001b[0m \u001b[39m# y = XW + b\u001b[39;00m\n\u001b[0;32m     <a href='vscode-notebook-cell:/c%3A/Users/user/Desktop/my_ws/edu/machinelearning/23_11_30.ipynb#W2sZmlsZQ%3D%3D?line=36'>37</a>\u001b[0m \u001b[39m#dot >> 행렬 곱\u001b[39;00m\n\u001b[1;32m---> <a href='vscode-notebook-cell:/c%3A/Users/user/Desktop/my_ws/edu/machinelearning/23_11_30.ipynb#W2sZmlsZQ%3D%3D?line=37'>38</a>\u001b[0m     y \u001b[39m=\u001b[39m np\u001b[39m.\u001b[39;49mdot(x_data,input_W) \u001b[39m+\u001b[39m input_b\n\u001b[0;32m     <a href='vscode-notebook-cell:/c%3A/Users/user/Desktop/my_ws/edu/machinelearning/23_11_30.ipynb#W2sZmlsZQ%3D%3D?line=38'>39</a>\u001b[0m \u001b[39m#mean 평균 power n승 (제곱)\u001b[39;00m\n\u001b[0;32m     <a href='vscode-notebook-cell:/c%3A/Users/user/Desktop/my_ws/edu/machinelearning/23_11_30.ipynb#W2sZmlsZQ%3D%3D?line=39'>40</a>\u001b[0m     \u001b[39mreturn\u001b[39;00m np\u001b[39m.\u001b[39mmean(np\u001b[39m.\u001b[39mpower((t_data\u001b[39m-\u001b[39my),\u001b[39m2\u001b[39m))\n",
      "File \u001b[1;32m<__array_function__ internals>:200\u001b[0m, in \u001b[0;36mdot\u001b[1;34m(*args, **kwargs)\u001b[0m\n",
      "\u001b[1;31mKeyboardInterrupt\u001b[0m: "
     ]
    }
   ],
   "source": [
    "def numerical_derivative(f,x):\n",
    "    # f : 미분하려는 다변수 함수\n",
    "    # x : 모든 변수를 포함하는 ndarray\n",
    "\n",
    "    delta_x = 1e-4\n",
    "    derivative_x = np.zeros_like(x) # shape을 똑같이 0으로 채움\n",
    "\n",
    "    it = np.nditer(x,flags = ['multi_index'])\n",
    "\n",
    "    while not it.finished: # iterator가 끝나지 않을 때까지만 반복 , 즉, 끝나면 반복종료\n",
    "        idx = it.multi_index # 현재의 index를 추출 => tuple 형태로 리턴\n",
    "        tmp = x[idx] \n",
    "        x[idx] = tmp + delta_x\n",
    "        fx_plus_delta_x = f(x) # f(x + delta_x)\n",
    "\n",
    "        x[idx] = tmp - delta_x\n",
    "        fx_minus_delta_x = f(x) # f(x - delta_x)\n",
    "\n",
    "        derivative_x[idx] = (fx_plus_delta_x - fx_minus_delta_x) / (2 * delta_x)\n",
    "\n",
    "        x[idx] = tmp\n",
    "\n",
    "        it.iternext()\n",
    "    \n",
    "    return derivative_x\n",
    "\n",
    "x_data = train_df['Temp'].values.reshape(-1,1)\n",
    "t_data = train_df['Ozone'].values.reshape(-1,1)\n",
    "\n",
    "W = np.random.rand(1,1)\n",
    "b = np.random.rand(1)\n",
    "\n",
    "def loss_func(input_data):\n",
    "    input_W = input_data[0]\n",
    "    input_b = input_data[1]\n",
    "# y = XW + b\n",
    "#dot >> 행렬 곱\n",
    "    y = np.dot(x_data,input_W) + input_b\n",
    "#mean 평균 power n승 (제곱)\n",
    "    return np.mean(np.power((t_data-y),2))\n",
    "\n",
    "def predict(x):\n",
    "    return np.dot(x,W) + b\n",
    "\n",
    "learning_rate = 1e-4\n",
    "\n",
    "for step in range(300000):\n",
    "    input_param = np.concatenate((W.ravel() , b.ravel()),axis=0)\n",
    "    derivative_result = learning_rate * numerical_derivative(loss_func,input_param)\n",
    "    W = W - derivative_result[0].reshape(-1,1)\n",
    "    b = b - derivative_result[1]\n",
    "\n",
    "    if step % 30000 == 0:\n",
    "        print(f'W : {W}, b : {b}, loss : {loss_func(input_param)}')\n",
    "        print(input_param)\n"
   ]
  },
  {
   "cell_type": "code",
   "execution_count": 69,
   "metadata": {},
   "outputs": [
    {
     "data": {
      "text/plain": [
       "array([[12.59346859]])"
      ]
     },
     "execution_count": 69,
     "metadata": {},
     "output_type": "execute_result"
    }
   ],
   "source": [
    "predict(np.array([[62]]))\n",
    "plt.scatter(x_data,t_data)\n",
    "plt.plot(x_data,W.ravel()*x_data+b,color = 'red')\n",
    "plt.show()"
   ]
  },
  {
   "cell_type": "code",
   "execution_count": null,
   "metadata": {},
   "outputs": [
    {
     "data": {
      "text/plain": [
       "<keras.src.callbacks.History at 0x20ec7455910>"
      ]
     },
     "execution_count": 26,
     "metadata": {},
     "output_type": "execute_result"
    }
   ],
   "source": [
    "model = Sequential()\n",
    "model.add(Flatten(input_shape=(1,)))\n",
    "\n",
    "output_layer = Dense(units=1,activation='linear')\n",
    "\n",
    "model.add(output_layer)\n",
    "model.compile(optimizer = SGD(learning_rate=1e-4),loss='mse')\n",
    "\n",
    "model.fit(x_data,t_data,epochs=10000,verbose=0)"
   ]
  },
  {
   "cell_type": "code",
   "execution_count": null,
   "metadata": {},
   "outputs": [
    {
     "name": "stdout",
     "output_type": "stream",
     "text": [
      "1/1 [==============================] - 0s 35ms/step\n"
     ]
    },
    {
     "data": {
      "text/plain": [
       "array([[22.50318]], dtype=float32)"
      ]
     },
     "execution_count": 23,
     "metadata": {},
     "output_type": "execute_result"
    }
   ],
   "source": [
    "model.predict(np.array([[62]]))\n",
    "weights, bias = output_layer.get_weights()\n"
   ]
  },
  {
   "cell_type": "code",
   "execution_count": null,
   "metadata": {},
   "outputs": [
    {
     "data": {
      "image/png": "[encoded data removed]",
      "text/plain": [
       "<Figure size 640x480 with 1 Axes>"
      ]
     },
     "metadata": {},
     "output_type": "display_data"
    }
   ],
   "source": [
    "plt.scatter(x_data,t_data)\n",
    "plt.plot(x_data,weights*x_data+bias,color = 'red')\n",
    "plt.show()"
   ]
  },
  {
   "cell_type": "code",
   "execution_count": null,
   "metadata": {},
   "outputs": [
    {
     "name": "stdout",
     "output_type": "stream",
     "text": [
      "[[3.58411393]]\n"
     ]
    }
   ],
   "source": [
    "from sklearn import linear_model\n",
    "\n",
    "sklearn_model = linear_model.LinearRegression()\n",
    "\n",
    "sklearn_model.fit(x_data,t_data)\n",
    "\n",
    "print(sklearn_model.predict(np.array([[62]])))"
   ]
  },
  {
   "cell_type": "code",
   "execution_count": null,
   "metadata": {},
   "outputs": [
    {
     "data": {
      "image/png": "[encoded data removed]",
      "text/plain": [
       "<Figure size 640x480 with 1 Axes>"
      ]
     },
     "metadata": {},
     "output_type": "display_data"
    }
   ],
   "source": [
    "weights = sklearn_model.coef_ #sklearn 모델 가중치 구하기\n",
    "bias = sklearn_model.intercept_ # sklearn 모델 바이어스 구하기\n",
    "\n",
    "plt.scatter(x_data,t_data)\n",
    "plt.plot(x_data,weights*x_data+bias,color = 'red')\n",
    "plt.show()"
   ]
  },
  {
   "cell_type": "code",
   "execution_count": 49,
   "metadata": {},
   "outputs": [
    {
     "name": "stdout",
     "output_type": "stream",
     "text": [
      "8.0\n",
      "4.5\n",
      "11.5\n",
      "7.0\n",
      "22.0\n",
      "-6.0\n"
     ]
    },
    {
     "data": {
      "image/png": "[encoded data removed]",
      "text/plain": [
       "<Figure size 640x480 with 2 Axes>"
      ]
     },
     "metadata": {},
     "output_type": "display_data"
    }
   ],
   "source": [
    "data = np.array([1,2,3,4,5,6,7,8,9,10,11,12,13,14,22.1])\n",
    "\n",
    "print(np.median(data))\n",
    "print(np.percentile(data,25))\n",
    "print(np.percentile(data,75))\n",
    "\n",
    "iqr_value = np.percentile(data, 75) - np.percentile(data,25)\n",
    "print(iqr_value)\n",
    "\n",
    "upper_fence = np.percentile(data,75) + 1.5*iqr_value\n",
    "print(upper_fence)\n",
    "lower_fence = np.percentile(data,25) - 1.5 * iqr_value\n",
    "print(lower_fence)"
   ]
  },
  {
   "cell_type": "code",
   "execution_count": 55,
   "metadata": {},
   "outputs": [],
   "source": [
    "#boolean indexing\n",
    "result_data = data[(data <= upper_fence) | (data >= lower_fence)]"
   ]
  },
  {
   "cell_type": "code",
   "execution_count": 56,
   "metadata": {},
   "outputs": [
    {
     "data": {
      "image/png": "[encoded data removed]",
      "text/plain": [
       "<Figure size 640x480 with 2 Axes>"
      ]
     },
     "metadata": {},
     "output_type": "display_data"
    },
    {
     "name": "stdout",
     "output_type": "stream",
     "text": [
      "[ 1.   2.   3.   4.   5.   6.   7.   8.   9.  10.  11.  12.  13.  14.\n",
      " 22.1]\n"
     ]
    }
   ],
   "source": [
    "fig = plt.figure()\n",
    "\n",
    "fig1 = fig.add_subplot(1,2,1)\n",
    "fig2 = fig.add_subplot(1,2,2)\n",
    "fig1.set_title('Original')\n",
    "fig1.boxplot(data)\n",
    "\n",
    "fig2.set_title('remove outlier data')\n",
    "fig2.boxplot(result_data)\n",
    "plt.tight_layout()\n",
    "plt.show()\n",
    "print(result_data)"
   ]
  },
  {
   "cell_type": "code",
   "execution_count": 59,
   "metadata": {},
   "outputs": [
    {
     "name": "stdout",
     "output_type": "stream",
     "text": [
      "[False False False False False False False False False False False False\n",
      " False False  True]\n",
      "[-1.40160702 -1.21405925 -1.02651147 -0.8389637  -0.65141593 -0.46386816\n",
      " -0.27632038 -0.08877261  0.09877516  0.28632293  0.4738707   0.66141848\n",
      "  0.84896625  1.03651402  2.55565098]\n",
      "[ 1.  2.  3.  4.  5.  6.  7.  8.  9. 10. 11. 12. 13. 14.]\n"
     ]
    }
   ],
   "source": [
    "#데이터를 정규분포화 시킴\n",
    "from scipy import stats\n",
    "data = np.array([1,2,3,4,5,6,7,8,9,10,11,12,13,14,22.1])\n",
    "\n",
    "zscore_threshold = 2.0\n",
    "\n",
    "outlier = data[np.abs(stats.zscore(data))>zscore_threshold]\n",
    "\n",
    "print(stats.zscore(data) > zscore_threshold)\n",
    "print(stats.zscore(data))\n",
    "print(data[np.isin(data,outlier,invert=True)])"
   ]
  },
  {
   "cell_type": "code",
   "execution_count": 75,
   "metadata": {},
   "outputs": [],
   "source": [
    "\n",
    "iqr = np.percentile(train_df['Ozone'],75) - np.percentile(train_df['Ozone'],25)\n",
    "\n",
    "upper = np.percentile(train_df['Ozone'],75) + 1.5 * iqr\n",
    "lower = np.percentile(train_df['Ozone'],25) - 1.5 * iqr\n",
    "\n",
    "result_df = train_df[(train_df['Ozone'] <= upper) | (train_df['Ozone'] >= lower)]\n",
    "x_data = result_df['Temp'].values.reshape(-1,1)\n",
    "t_data = result_df['Ozone'].values.reshape(-1,1)\n"
   ]
  },
  {
   "cell_type": "code",
   "execution_count": 76,
   "metadata": {},
   "outputs": [
    {
     "name": "stdout",
     "output_type": "stream",
     "text": [
      "W : [[1.79601659]], b : [-97.00313207], loss : 588.9023642578999\n",
      "[  1.79601475 -97.00298715]\n",
      "W : [[1.84871438]], b : [-101.1670996], loss : 583.1182288056988\n",
      "[   1.8487127  -101.16696675]\n",
      "W : [[1.89702286]], b : [-104.98424162], loss : 578.257510845335\n",
      "[   1.89702132 -104.98411983]\n",
      "W : [[1.94130763]], b : [-108.48344594], loss : 574.1727899245406\n",
      "[   1.94130622 -108.48333429]\n",
      "W : [[1.98190383]], b : [-111.69119425], loss : 570.7401807633472\n",
      "[   1.98190254 -111.69109191]\n",
      "W : [[2.01911869]], b : [-114.63176254], loss : 567.8555759440721\n",
      "[   2.0191175  -114.63166872]\n",
      "W : [[2.05323384]], b : [-117.32740478], loss : 565.4314884431092\n",
      "[   2.05323276 -117.32731878]\n",
      "W : [[2.08450748]], b : [-119.79852137], loss : 563.3943982416789\n",
      "[   2.08450648 -119.79844253]\n",
      "W : [[2.11317626]], b : [-122.06381352], loss : 561.6825225411737\n",
      "[   2.11317535 -122.06374125]\n",
      "W : [[2.13945717]], b : [-124.14042478], loss : 560.2439419560258\n",
      "[   2.13945633 -124.14035853]\n"
     ]
    }
   ],
   "source": [
    "for step in range(300000):\n",
    "    input_param = np.concatenate((W.ravel() , b.ravel()),axis=0)\n",
    "    derivative_result = learning_rate * numerical_derivative(loss_func,input_param)\n",
    "    W = W - derivative_result[0].reshape(-1,1)\n",
    "    b = b - derivative_result[1]\n",
    "\n",
    "    if step % 30000 == 0:\n",
    "        print(f'W : {W}, b : {b}, loss : {loss_func(input_param)}')\n",
    "        print(input_param)"
   ]
  },
  {
   "cell_type": "code",
   "execution_count": 74,
   "metadata": {},
   "outputs": [
    {
     "data": {
      "text/plain": [
       "array([[14.34992764]])"
      ]
     },
     "execution_count": 74,
     "metadata": {},
     "output_type": "execute_result"
    }
   ],
   "source": [
    "predict(np.array([[62]]))"
   ]
  },
  {
   "cell_type": "code",
   "execution_count": null,
   "metadata": {},
   "outputs": [],
   "source": [
    "model = Sequential()\n",
    "model.add(Flatten(input_shape=(1,)))\n",
    "\n",
    "output_layer = Dense(units=1,activation='linear')\n",
    "\n",
    "model.add(output_layer)\n",
    "model.compile(optimizer = SGD(learning_rate=1e-4),loss='mse')\n",
    "\n",
    "model.fit(x_data,t_data,epochs=10000,verbose=0)\n",
    "\n",
    "model.predict(np.array([[62]]))\n"
   ]
  }
 ],
 "metadata": {
  "kernelspec": {
   "display_name": "test_venv",
   "language": "python",
   "name": "python3"
  },
  "language_info": {
   "codemirror_mode": {
    "name": "ipython",
    "version": 3
   },
   "file_extension": ".py",
   "mimetype": "text/x-python",
   "name": "python",
   "nbconvert_exporter": "python",
   "pygments_lexer": "ipython3",
   "version": "3.8.18"
  },
  "orig_nbformat": 4
 },
 "nbformat": 4,
 "nbformat_minor": 2
}
