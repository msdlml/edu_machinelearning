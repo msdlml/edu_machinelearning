{
 "cells": [
  {
   "cell_type": "code",
   "execution_count": 8,
   "metadata": {},
   "outputs": [
    {
     "name": "stdout",
     "output_type": "stream",
     "text": [
      "delta_x = 0.0001\n"
     ]
    },
    {
     "data": {
      "text/plain": [
       "9.999999999976694"
      ]
     },
     "execution_count": 8,
     "metadata": {},
     "output_type": "execute_result"
    }
   ],
   "source": [
    "# 일변수 함수의 수치미분 코드 구현\n",
    "# 입력으로 함수를 받아서 미분을 수행하는 함수를 하나 구현\n",
    "# 파이썬은 일급함수를 지원\n",
    "# 함수의 인자로 다른 함수를 받을 수 있음\n",
    "\n",
    "def numerical_derivative(f, x):\n",
    "    # f ==> 미분하려는 함수, x ==> 미분값을 알고자하는 입력값\n",
    "    delta_x = 1e-4\n",
    "    print(f'delta_x = {delta_x}')\n",
    "    # 중앙차분을 이용한 미분을 코드로 표현\n",
    "    result = (f(x + delta_x) - f(x - delta_x)) / (2 * delta_x)\n",
    "    return result\n",
    "\n",
    "def my_func(x):\n",
    "    return x**2\n",
    "\n",
    "# 함수 f(x) = x**2 의 미분계수 f'(5)를 구하기\n",
    "\n",
    "result = numerical_derivative(my_func,5)\n",
    "result\n"
   ]
  },
  {
   "cell_type": "code",
   "execution_count": 12,
   "metadata": {},
   "outputs": [
    {
     "data": {
      "text/plain": [
       "array([6.])"
      ]
     },
     "execution_count": 12,
     "metadata": {},
     "output_type": "execute_result"
    }
   ],
   "source": [
    "import numpy as np\n",
    "\n",
    "def numerical_derivative(f,x):\n",
    "    # f : 미분하려는 다변수 함수\n",
    "    # x : 모든 변수를 포함하는 ndarray\n",
    "\n",
    "    delta_x = 1e-4\n",
    "    derivative_x = np.zeros_like(x) # shape을 똑같이 0으로 채움\n",
    "\n",
    "    it = np.nditer(x,flags = ['multi_index'])\n",
    "\n",
    "    while not it.finished: # iterator가 끝나지 않을 때까지만 반복 , 즉, 끝나면 반복종료\n",
    "        idx = it.multi_index # 현재의 index를 추출 => tuple 형태로 리턴\n",
    "        tmp = x[idx] \n",
    "        x[idx] = tmp + delta_x\n",
    "        fx_plus_delta_x = f(x) # f(x + delta_x)\n",
    "\n",
    "        x[idx] = tmp - delta_x\n",
    "        fx_minus_delta_x = f(x) # f(x - delta_x)\n",
    "\n",
    "        derivative_x[idx] = (fx_plus_delta_x - fx_minus_delta_x) / (2 * delta_x)\n",
    "\n",
    "        x[idx] = tmp\n",
    "\n",
    "        it.iternext()\n",
    "    \n",
    "    return derivative_x\n",
    "def my_func(x):\n",
    "    return x**2\n",
    "# f'(3.0)을 구하기\n",
    "result = numerical_derivative(my_func,np.array([3.0]))\n",
    "\n",
    "result"
   ]
  },
  {
   "cell_type": "code",
   "execution_count": 14,
   "metadata": {},
   "outputs": [
    {
     "data": {
      "text/plain": [
       "array([ 8.        , 15.00000001])"
      ]
     },
     "execution_count": 14,
     "metadata": {},
     "output_type": "execute_result"
    }
   ],
   "source": [
    "# 2변수 함수를 다시 만들자\n",
    "def my_func(input_data):\n",
    "    x = input_data[0]\n",
    "    y = input_data[1]\n",
    "\n",
    "    # f(x) = 2x + 3xy + y^3\n",
    "    return 2*x + 3*x*y + np.power(y,3) # 제곱\n",
    "\n",
    "result = numerical_derivative(my_func,np.array([1.0,2.0]))\n",
    "result"
   ]
  },
  {
   "cell_type": "code",
   "execution_count": 17,
   "metadata": {},
   "outputs": [
    {
     "data": {
      "text/plain": [
       "array([ 5., 13., 32., 15.])"
      ]
     },
     "execution_count": 17,
     "metadata": {},
     "output_type": "execute_result"
    }
   ],
   "source": [
    "# 4변수 함수에 대해서 수치미분\n",
    "# f(w,x,y,z) = wx + xyz + 3w + zy^2\n",
    "# f'(1.0,2.0,3.0,4.0) 의 값은 얼마?\n",
    "# 차례대로 w에 대한 w값이 1.0일 때 미분값 \n",
    "# 차례대로 x에 대한 x값이 2.0일 때 미분값 \n",
    "# 차례대로 y에 대한 y값이 3.0일 때 미분값 \n",
    "# 차례대로 z에 대한 z값이 4.0일 때 미분값 \n",
    "def numerical_derivative(f,x):\n",
    "    # f : 미분하려는 다변수 함수\n",
    "    # x : 모든 변수를 포함하는 ndarray\n",
    "\n",
    "    delta_x = 1e-4\n",
    "    derivative_x = np.zeros_like(x) # shape을 똑같이 0으로 채움\n",
    "\n",
    "    it = np.nditer(x,flags = ['multi_index']) # 배열 x를 iterator 로 만들어준다.\n",
    "    # 다중 배열 사용할 때 옵션 multi_index\n",
    "\n",
    "    while not it.finished: # iterator가 끝나지 않을 때까지만 반복 , 즉, 끝나면 반복종료\n",
    "        idx = it.multi_index # 현재의 index를 추출 => tuple 형태로 리턴\n",
    "        tmp = x[idx] \n",
    "        x[idx] = tmp + delta_x\n",
    "        fx_plus_delta_x = f(x) # f(x + delta_x)\n",
    "\n",
    "        x[idx] = tmp - delta_x\n",
    "        fx_minus_delta_x = f(x) # f(x - delta_x)\n",
    "\n",
    "        derivative_x[idx] = (fx_plus_delta_x - fx_minus_delta_x) / (2 * delta_x)\n",
    "\n",
    "        x[idx] = tmp\n",
    "\n",
    "        it.iternext()\n",
    "    \n",
    "    return derivative_x\n",
    "\n",
    "def my_func(input_data):\n",
    "    w = input_data[0]\n",
    "    x = input_data[1]\n",
    "    y = input_data[2]\n",
    "    z = input_data[3]\n",
    "    return w*x + x*y*z + 3*w + z*y*y\n",
    "\n",
    "result = numerical_derivative(my_func,np.array([1.0,2.0,3.0,4.0])) # 정수입력하면 값 이상하게 나옴\n",
    "result\n",
    "\n"
   ]
  },
  {
   "cell_type": "code",
   "execution_count": null,
   "metadata": {},
   "outputs": [],
   "source": []
  }
 ],
 "metadata": {
  "kernelspec": {
   "display_name": "test_venv",
   "language": "python",
   "name": "python3"
  },
  "language_info": {
   "codemirror_mode": {
    "name": "ipython",
    "version": 3
   },
   "file_extension": ".py",
   "mimetype": "text/x-python",
   "name": "python",
   "nbconvert_exporter": "python",
   "pygments_lexer": "ipython3",
   "version": "3.8.18"
  },
  "orig_nbformat": 4
 },
 "nbformat": 4,
 "nbformat_minor": 2
}
